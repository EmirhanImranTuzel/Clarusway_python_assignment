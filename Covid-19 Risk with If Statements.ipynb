{
 "cells": [
  {
   "cell_type": "code",
   "execution_count": 5,
   "metadata": {},
   "outputs": [
    {
     "name": "stdout",
     "output_type": "stream",
     "text": [
      "You are in risky group.\n"
     ]
    }
   ],
   "source": [
    "age = input(\"Are you a cigarette addict older than 75 years old? Please reply with Yes/No: \")\n",
    "chronic = input(\"Do you have a severe chronic disease? Please reply with Yes/No: \")\n",
    "immune = input(\"Is your immune system too weak? Please reply with Yes/No: \")\n",
    "risk = bool(age.capitalize() == 'Yes') or bool(chronic.capitalize() == 'Yes') or bool(immune.capitalize() == 'Yes')\n",
    "if risk == True:\n",
    "    print(\"You are in risky group.\")\n",
    "else:\n",
    "    print(\"You are not in risky group.\")\n"
   ]
  }
 ],
 "metadata": {
  "interpreter": {
   "hash": "31f2aee4e71d21fbe5cf8b01ff0e069b9275f58929596ceb00d14d90e3e16cd6"
  },
  "kernelspec": {
   "display_name": "Python 3.8.2 64-bit",
   "language": "python",
   "name": "python3"
  },
  "language_info": {
   "codemirror_mode": {
    "name": "ipython",
    "version": 3
   },
   "file_extension": ".py",
   "mimetype": "text/x-python",
   "name": "python",
   "nbconvert_exporter": "python",
   "pygments_lexer": "ipython3",
   "version": "3.8.5"
  },
  "orig_nbformat": 4
 },
 "nbformat": 4,
 "nbformat_minor": 2
}
