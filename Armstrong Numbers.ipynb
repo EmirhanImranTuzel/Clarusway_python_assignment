{
 "cells": [
  {
   "cell_type": "code",
   "execution_count": 40,
   "metadata": {},
   "outputs": [
    {
     "name": "stdout",
     "output_type": "stream",
     "text": [
      "407 is an Armstrong number.\n"
     ]
    }
   ],
   "source": [
    "while True:\n",
    "    num = input(\"Please enter positive integer number: \")\n",
    "    if not num.isdigit():\n",
    "        print(\"It is an invalid entry. Don't use non-numeric, float, or negative values! Please enter again!\")\n",
    "    else:\n",
    "        break\n",
    "lenght = len(num)\n",
    "sum_ = sum(int(i) ** lenght for i in num)\n",
    "print(f\"{num} is an Armstrong number.\" if sum_ == int(num) else f\"{num} is not an Armstrong number.\")"
   ]
  }
 ],
 "metadata": {
  "interpreter": {
   "hash": "40d3a090f54c6569ab1632332b64b2c03c39dcf918b08424e98f38b5ae0af88f"
  },
  "kernelspec": {
   "display_name": "Python 3.8.5 64-bit ('base': conda)",
   "language": "python",
   "name": "python3"
  },
  "language_info": {
   "codemirror_mode": {
    "name": "ipython",
    "version": 3
   },
   "file_extension": ".py",
   "mimetype": "text/x-python",
   "name": "python",
   "nbconvert_exporter": "python",
   "pygments_lexer": "ipython3",
   "version": "3.8.5"
  },
  "orig_nbformat": 4
 },
 "nbformat": 4,
 "nbformat_minor": 2
}
